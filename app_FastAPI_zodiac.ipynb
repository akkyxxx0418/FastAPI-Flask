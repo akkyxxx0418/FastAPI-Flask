{
 "cells": [
  {
   "cell_type": "code",
   "execution_count": 1,
   "id": "12ed5a67",
   "metadata": {},
   "outputs": [],
   "source": [
    "import requests"
   ]
  },
  {
   "cell_type": "code",
   "execution_count": 2,
   "id": "d1bdf3a9",
   "metadata": {},
   "outputs": [],
   "source": [
    "##End pointの設定　  -    port + \"/double\"\n",
    "FastAPI_url = 'http://127.0.0.1:8001/get_season'  # FastAPI /  port 8001"
   ]
  },
  {
   "cell_type": "code",
   "execution_count": 3,
   "id": "d911df9b",
   "metadata": {},
   "outputs": [],
   "source": [
    "body = {\n",
    "    \"number\" : 2\n",
    "}"
   ]
  },
  {
   "cell_type": "code",
   "execution_count": 4,
   "id": "3d4215de",
   "metadata": {},
   "outputs": [],
   "source": [
    "res_fastapi = requests.post(FastAPI_url,json = body)  #Endpointは\"FastAPI_url\"を指定"
   ]
  },
  {
   "cell_type": "code",
   "execution_count": 5,
   "id": "ac12aa7e",
   "metadata": {},
   "outputs": [
    {
     "data": {
      "text/plain": [
       "<Response [200]>"
      ]
     },
     "execution_count": 5,
     "metadata": {},
     "output_type": "execute_result"
    }
   ],
   "source": [
    "res_fastapi "
   ]
  },
  {
   "cell_type": "code",
   "execution_count": 6,
   "id": "cae6bbaa",
   "metadata": {},
   "outputs": [
    {
     "data": {
      "text/plain": [
       "['number=2月は, 冬です！']"
      ]
     },
     "execution_count": 6,
     "metadata": {},
     "output_type": "execute_result"
    }
   ],
   "source": [
    "res_fastapi .json()"
   ]
  },
  {
   "cell_type": "code",
   "execution_count": 7,
   "id": "649691ee",
   "metadata": {},
   "outputs": [],
   "source": [
    "body = {\n",
    "    \"number\" : 13\n",
    "}"
   ]
  },
  {
   "cell_type": "code",
   "execution_count": 8,
   "id": "2484f8d9",
   "metadata": {},
   "outputs": [],
   "source": [
    "res_fastapi = requests.post(FastAPI_url,json = body)  #Endpointは\"FastAPI_url\"を指定"
   ]
  },
  {
   "cell_type": "code",
   "execution_count": 9,
   "id": "4409f08f",
   "metadata": {},
   "outputs": [
    {
     "data": {
      "text/plain": [
       "{'detail': '1から12の間の数字を入力してね！'}"
      ]
     },
     "execution_count": 9,
     "metadata": {},
     "output_type": "execute_result"
    }
   ],
   "source": [
    "res_fastapi .json()"
   ]
  },
  {
   "cell_type": "code",
   "execution_count": null,
   "id": "532a19df",
   "metadata": {},
   "outputs": [],
   "source": []
  }
 ],
 "metadata": {
  "kernelspec": {
   "display_name": "Python 3 (ipykernel)",
   "language": "python",
   "name": "python3"
  },
  "language_info": {
   "codemirror_mode": {
    "name": "ipython",
    "version": 3
   },
   "file_extension": ".py",
   "mimetype": "text/x-python",
   "name": "python",
   "nbconvert_exporter": "python",
   "pygments_lexer": "ipython3",
   "version": "3.9.13"
  }
 },
 "nbformat": 4,
 "nbformat_minor": 5
}
